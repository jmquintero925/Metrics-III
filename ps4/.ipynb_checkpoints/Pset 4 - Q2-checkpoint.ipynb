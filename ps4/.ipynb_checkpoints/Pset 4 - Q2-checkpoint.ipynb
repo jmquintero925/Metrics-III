{
 "cells": [
  {
   "cell_type": "markdown",
   "id": "264e09a6",
   "metadata": {},
   "source": [
    "# Problem Set 4\n",
    "### Alex Weinberg, Isaac Norwich, Jose Quintero\n",
    "### May 5, 2022\n",
    "\n",
    "---\n",
    "# Problem 2\n",
    "The goal of this problem is to explore how to approach event study designs - why two-way fixed- effect (TWFE) regressions will not get you what you want and how to do something else instead. Callaway and Sant’Anna (2020) is highly recommended reading. You may also want to look at Goodman-Bacon (2020) and/or Sun and Abraham (2020).\n",
    "\n",
    "Note: You may notice that there exists an R package “did”, created by the authors, to imple- ment Callaway & Sant’Anna (2020). The goal of this pset is NOT for you to use this package. You will want to use the package for any real-world implementation, but here I am asking you only to estimate mean effects, never standard errors, and so you should be able to do everything by building your own code using the equations from class & consulting with the Callaway & Sant’Anna and Goodman-Bacon papers if necessary.\n",
    "In this problem, you will simulate your own data. Because of this, you will know the underlying data generating process and what the “true” value of the parameters are and will be able to see how far astray TWFE can take you.\n",
    "We consider a setting in which all 50 states in the U.S. implement a policy change (all units are eventually treated), but at different times. States are sorted into “treatment groups” depending on when they enacted the policy g ∈ {1986,1992,1998,2004}. Assume throughout this question that treatment is unanticipated (if you are referencing the notation of the Callaway and Sant’Anna paper, δ = 0).\n",
    "Steps for data-generation:"
   ]
  },
  {
   "cell_type": "code",
   "execution_count": 176,
   "id": "5a519c50",
   "metadata": {},
   "outputs": [],
   "source": [
    "import numpy as np\n",
    "import pandas as pd\n",
    "import seaborn as sns\n",
    "\n",
    "import statsmodels.formula.api as smf     # for the ols and robust ols model\n",
    "\n",
    "# Pandas display options\n",
    "pd.options.display.float_format = '{:.2f}'.format\n",
    "\n",
    "# Adjust default figure size\n",
    "sns.set(rc={'figure.figsize':(11.7,8.27)})\n",
    "sns.set_context(\"notebook\")\n",
    "\n",
    "# Figure style \n",
    "sns.set_style(\"whitegrid\")"
   ]
  },
  {
   "cell_type": "code",
   "execution_count": 177,
   "id": "6bb7c4d1",
   "metadata": {},
   "outputs": [],
   "source": [
    "# PARAMETERS\n",
    "T = 30 # number of periods\n",
    "N = 1000 # number of units\n",
    "S = 50 # number of states\n",
    "g_list = [1986, 1992, 1998, 2004] # treatment groups\n",
    "\n",
    "base_year = 1980\n",
    "final_year = base_year + T\n",
    "\n",
    "np.random.seed(421) # set seed to my birthday"
   ]
  },
  {
   "cell_type": "code",
   "execution_count": 178,
   "id": "92402620",
   "metadata": {},
   "outputs": [],
   "source": [
    "# NUMERICAL PARAMETERS\n",
    "M = 100 # num. of monte carlo simulations."
   ]
  },
  {
   "cell_type": "code",
   "execution_count": 179,
   "id": "1a41ae92",
   "metadata": {},
   "outputs": [],
   "source": [
    "# Simulate Data\n",
    "i = np.arange(0,N) # vector of units\n",
    "s = np.random.choice(S, N) # uniform draw from 0:S \n",
    "g = np.random.choice(g_list,S) # randomly assign states to g"
   ]
  },
  {
   "cell_type": "code",
   "execution_count": 180,
   "id": "ac7809a2",
   "metadata": {},
   "outputs": [
    {
     "name": "stdout",
     "output_type": "stream",
     "text": [
      "Treatment shares\n",
      "1992   0.30\n",
      "1986   0.26\n",
      "1998   0.24\n",
      "2004   0.20\n",
      "Name: treatment, dtype: float64\n",
      "--\n",
      "State size\n",
      "0    0.02\n",
      "37   0.02\n",
      "27   0.02\n",
      "28   0.02\n",
      "29   0.02\n",
      "30   0.02\n",
      "31   0.02\n",
      "32   0.02\n",
      "33   0.02\n",
      "34   0.02\n",
      "35   0.02\n",
      "36   0.02\n",
      "38   0.02\n",
      "1    0.02\n",
      "39   0.02\n",
      "40   0.02\n",
      "41   0.02\n",
      "42   0.02\n",
      "43   0.02\n",
      "44   0.02\n",
      "45   0.02\n",
      "46   0.02\n",
      "47   0.02\n",
      "48   0.02\n",
      "26   0.02\n",
      "25   0.02\n",
      "24   0.02\n",
      "23   0.02\n",
      "2    0.02\n",
      "3    0.02\n",
      "4    0.02\n",
      "5    0.02\n",
      "6    0.02\n",
      "7    0.02\n",
      "8    0.02\n",
      "9    0.02\n",
      "10   0.02\n",
      "11   0.02\n",
      "12   0.02\n",
      "13   0.02\n",
      "14   0.02\n",
      "15   0.02\n",
      "16   0.02\n",
      "17   0.02\n",
      "18   0.02\n",
      "19   0.02\n",
      "20   0.02\n",
      "21   0.02\n",
      "22   0.02\n",
      "49   0.02\n",
      "Name: state, dtype: float64\n"
     ]
    }
   ],
   "source": [
    "# Create state map from state to treatment\n",
    "df_treatment = pd.DataFrame({'state':np.arange(S), 'treatment':g})\n",
    "\n",
    "print('Treatment shares')\n",
    "print(df_treatment['treatment'].value_counts(normalize=True))\n",
    "print('--')\n",
    "print('State size')\n",
    "print(df_treatment['state'].value_counts(normalize=True))\n",
    "\n"
   ]
  },
  {
   "cell_type": "code",
   "execution_count": 181,
   "id": "a63d7fef",
   "metadata": {},
   "outputs": [],
   "source": [
    "# Map units to states, treatment\n",
    "df_unit = pd.DataFrame({'unit':i, 'state':s}) # initialize data, assign states\n",
    "df_unit = pd.merge(df_unit, df_treatment, on='state',how='outer',validate =  'm:1', indicator=True) # merge in treatment\n",
    "\n",
    "assert np.all(df_unit['_merge'] == 'both') # assert merge worked"
   ]
  },
  {
   "cell_type": "code",
   "execution_count": 182,
   "id": "70cf5f08",
   "metadata": {},
   "outputs": [
    {
     "data": {
      "text/html": [
       "<div>\n",
       "<style scoped>\n",
       "    .dataframe tbody tr th:only-of-type {\n",
       "        vertical-align: middle;\n",
       "    }\n",
       "\n",
       "    .dataframe tbody tr th {\n",
       "        vertical-align: top;\n",
       "    }\n",
       "\n",
       "    .dataframe thead th {\n",
       "        text-align: right;\n",
       "    }\n",
       "</style>\n",
       "<table border=\"1\" class=\"dataframe\">\n",
       "  <thead>\n",
       "    <tr style=\"text-align: right;\">\n",
       "      <th></th>\n",
       "      <th>unit</th>\n",
       "      <th>state</th>\n",
       "      <th>treatment</th>\n",
       "      <th>_merge</th>\n",
       "    </tr>\n",
       "  </thead>\n",
       "  <tbody>\n",
       "    <tr>\n",
       "      <th>0</th>\n",
       "      <td>0</td>\n",
       "      <td>23</td>\n",
       "      <td>1992</td>\n",
       "      <td>both</td>\n",
       "    </tr>\n",
       "    <tr>\n",
       "      <th>1</th>\n",
       "      <td>1</td>\n",
       "      <td>44</td>\n",
       "      <td>1998</td>\n",
       "      <td>both</td>\n",
       "    </tr>\n",
       "    <tr>\n",
       "      <th>2</th>\n",
       "      <td>2</td>\n",
       "      <td>19</td>\n",
       "      <td>2004</td>\n",
       "      <td>both</td>\n",
       "    </tr>\n",
       "    <tr>\n",
       "      <th>3</th>\n",
       "      <td>3</td>\n",
       "      <td>17</td>\n",
       "      <td>1998</td>\n",
       "      <td>both</td>\n",
       "    </tr>\n",
       "    <tr>\n",
       "      <th>4</th>\n",
       "      <td>4</td>\n",
       "      <td>15</td>\n",
       "      <td>1992</td>\n",
       "      <td>both</td>\n",
       "    </tr>\n",
       "  </tbody>\n",
       "</table>\n",
       "</div>"
      ],
      "text/plain": [
       "   unit  state  treatment _merge\n",
       "0     0     23       1992   both\n",
       "1     1     44       1998   both\n",
       "2     2     19       2004   both\n",
       "3     3     17       1998   both\n",
       "4     4     15       1992   both"
      ]
     },
     "execution_count": 182,
     "metadata": {},
     "output_type": "execute_result"
    }
   ],
   "source": [
    "df_unit = df_unit.sort_values('unit').reset_index(drop=True)\n",
    "df_unit.head()"
   ]
  },
  {
   "cell_type": "markdown",
   "id": "539d8f38",
   "metadata": {},
   "source": [
    "For each unit, simulate outcome data from 1980 to 2010 drawn from the following Data Generating Process:\n",
    "\n",
    "$$\n",
    "Y_{i t}=\\underbrace{(2010-g)}_{\\text {group intercept }}+\\alpha_{i}+\\alpha_{t}+\\tau_{i t}+\\epsilon_{i t}\n",
    "$$\n",
    "\n",
    "where\n",
    "- $\\alpha_{i}$ are unit fixed effects drawn randomly from $\\sim N\\left(\\frac{\\text { state }}{5}, 1\\right)$\n",
    "- $\\alpha_{t}$ are time fixed effects generated as\n",
    "$$\n",
    "\\alpha_{t}=0.1 *(t-g)+\\epsilon^{t i m e F E}\n",
    "$$\n",
    "with $\\epsilon^{\\text {timeFE }} \\sim N(0,1)$\n",
    "- $\\epsilon_{i t} \\sim N\\left(0,\\left(\\frac{1}{2}\\right)^{2}\\right)$ is an idiosyncratic error term\n",
    "- $\\tau_{i, t}$ are the unit-specific treatment effects at time t generated as\n",
    "$$\n",
    "\\tau_{i t}=\\underbrace{1}_{\\text {instantaneous treatment effect }} \\times(t-g+1) \\times 1\\{t \\geq g\\}\n",
    "$$"
   ]
  },
  {
   "cell_type": "code",
   "execution_count": 183,
   "id": "3b622964",
   "metadata": {
    "scrolled": true
   },
   "outputs": [],
   "source": [
    "class MCsim:\n",
    "    '''This class is a single simulation of the DGP'''\n",
    "    def __init__(self, df_unit):\n",
    "        # ======================== #\n",
    "        # INDIVIDUAL FIXED EFFECTS\n",
    "        # ======================== #\n",
    "        df_unit['alpha_i'] = np.random.normal(df_unit.state / 5, 1) # individual FE\n",
    "\n",
    "        # ======================== #\n",
    "        # TIME FIXED EFFECTS\n",
    "        # ======================== #\n",
    "\n",
    "        # generate time dimension\n",
    "        df_it = pd.concat([df_unit]*T, ignore_index=True) # duplicate each unit T times.\n",
    "        df_it['year'] = base_year + df_it.groupby('unit').cumcount() # create t=1,..,T for each unit\n",
    "\n",
    "        # time fixed effects\n",
    "        eps_time_FE = np.random.normal(0,1,size=N*T)\n",
    "        df_it['alpha_t'] = 0.1 * (df_it.year - df_it.treatment) + eps_time_FE\n",
    "\n",
    "        # ======================== #\n",
    "        # IDIOSYNCRATIC ERROR\n",
    "        # ======================== #\n",
    "        eps_it = np.random.normal(0,0.5,size=N*T)\n",
    "\n",
    "        # ======================== #\n",
    "        # TREATMENT EFFECT\n",
    "        # ======================== #\n",
    "        df_it['tau_it'] = (df_it.year - df_it.treatment + 1) * (df_it.year >= df_it.treatment)\n",
    "\n",
    "        # ======================== #\n",
    "        # TREATMENT EFFECT\n",
    "        # ======================== #\n",
    "        df = df_it\n",
    "        df['y_it'] = (final_year - df.treatment) + df.alpha_i + df.alpha_t + df.tau_it + eps_it\n",
    "        \n",
    "        df.set_index(['unit', 'year'], inplace=True)\n",
    "        self.df = df\n",
    "        return\n",
    "\n",
    "#     df.head()"
   ]
  },
  {
   "cell_type": "code",
   "execution_count": 184,
   "id": "6b2eefe8",
   "metadata": {},
   "outputs": [
    {
     "data": {
      "text/html": [
       "<div>\n",
       "<style scoped>\n",
       "    .dataframe tbody tr th:only-of-type {\n",
       "        vertical-align: middle;\n",
       "    }\n",
       "\n",
       "    .dataframe tbody tr th {\n",
       "        vertical-align: top;\n",
       "    }\n",
       "\n",
       "    .dataframe thead th {\n",
       "        text-align: right;\n",
       "    }\n",
       "</style>\n",
       "<table border=\"1\" class=\"dataframe\">\n",
       "  <thead>\n",
       "    <tr style=\"text-align: right;\">\n",
       "      <th></th>\n",
       "      <th></th>\n",
       "      <th>state</th>\n",
       "      <th>treatment</th>\n",
       "      <th>_merge</th>\n",
       "      <th>alpha_i</th>\n",
       "      <th>alpha_t</th>\n",
       "      <th>tau_it</th>\n",
       "      <th>y_it</th>\n",
       "    </tr>\n",
       "    <tr>\n",
       "      <th>unit</th>\n",
       "      <th>year</th>\n",
       "      <th></th>\n",
       "      <th></th>\n",
       "      <th></th>\n",
       "      <th></th>\n",
       "      <th></th>\n",
       "      <th></th>\n",
       "      <th></th>\n",
       "    </tr>\n",
       "  </thead>\n",
       "  <tbody>\n",
       "    <tr>\n",
       "      <th>0</th>\n",
       "      <th>1980</th>\n",
       "      <td>23</td>\n",
       "      <td>1992</td>\n",
       "      <td>both</td>\n",
       "      <td>2.97</td>\n",
       "      <td>1.55</td>\n",
       "      <td>0</td>\n",
       "      <td>22.43</td>\n",
       "    </tr>\n",
       "    <tr>\n",
       "      <th>1</th>\n",
       "      <th>1980</th>\n",
       "      <td>44</td>\n",
       "      <td>1998</td>\n",
       "      <td>both</td>\n",
       "      <td>8.48</td>\n",
       "      <td>-2.65</td>\n",
       "      <td>0</td>\n",
       "      <td>17.47</td>\n",
       "    </tr>\n",
       "    <tr>\n",
       "      <th>2</th>\n",
       "      <th>1980</th>\n",
       "      <td>19</td>\n",
       "      <td>2004</td>\n",
       "      <td>both</td>\n",
       "      <td>2.90</td>\n",
       "      <td>-1.60</td>\n",
       "      <td>0</td>\n",
       "      <td>7.95</td>\n",
       "    </tr>\n",
       "    <tr>\n",
       "      <th>3</th>\n",
       "      <th>1980</th>\n",
       "      <td>17</td>\n",
       "      <td>1998</td>\n",
       "      <td>both</td>\n",
       "      <td>4.53</td>\n",
       "      <td>-1.97</td>\n",
       "      <td>0</td>\n",
       "      <td>14.00</td>\n",
       "    </tr>\n",
       "    <tr>\n",
       "      <th>4</th>\n",
       "      <th>1980</th>\n",
       "      <td>15</td>\n",
       "      <td>1992</td>\n",
       "      <td>both</td>\n",
       "      <td>3.30</td>\n",
       "      <td>-1.57</td>\n",
       "      <td>0</td>\n",
       "      <td>20.05</td>\n",
       "    </tr>\n",
       "  </tbody>\n",
       "</table>\n",
       "</div>"
      ],
      "text/plain": [
       "           state  treatment _merge  alpha_i  alpha_t  tau_it  y_it\n",
       "unit year                                                         \n",
       "0    1980     23       1992   both     2.97     1.55       0 22.43\n",
       "1    1980     44       1998   both     8.48    -2.65       0 17.47\n",
       "2    1980     19       2004   both     2.90    -1.60       0  7.95\n",
       "3    1980     17       1998   both     4.53    -1.97       0 14.00\n",
       "4    1980     15       1992   both     3.30    -1.57       0 20.05"
      ]
     },
     "execution_count": 184,
     "metadata": {},
     "output_type": "execute_result"
    }
   ],
   "source": [
    "df = MCsim(df_unit).df\n",
    "df.head()"
   ]
  },
  {
   "cell_type": "markdown",
   "id": "d42ea55c",
   "metadata": {},
   "source": [
    "At this point, I have successfully generated the simulated data. \n",
    "\n",
    "---\n",
    "\n",
    "### Part A\n",
    "Examine the Data Generating Process. Which part of the equation is the ATT? Simulate out the data once (later you will be asked to repeat many times - set a seed!) and graph the ATT for each group in calendar time (i.e. put t on the x-axis)."
   ]
  },
  {
   "cell_type": "code",
   "execution_count": 185,
   "id": "99d7e63e",
   "metadata": {},
   "outputs": [
    {
     "data": {
      "image/png": "[encoded data removed]",
      "text/plain": [
       "<Figure size 424.475x360 with 1 Axes>"
      ]
     },
     "metadata": {},
     "output_type": "display_data"
    }
   ],
   "source": [
    "# the ATT for each group is given by \\tau_it\n",
    "\n",
    "\n",
    "att = sns.relplot(x=\"year\", y=\"tau_it\", hue='treatment', style='treatment', kind='line',\n",
    "            markers=True, legend = 'auto', palette=\"deep\", data=df);\n",
    "\n"
   ]
  },
  {
   "cell_type": "markdown",
   "id": "011afe46",
   "metadata": {},
   "source": [
    "---\n",
    "## Part B\n",
    "Now plot the ATT in “event time” (i.e. t − g). Are treatment effects homogeneous in this setting? Describe the evolution of treatment effects after treatment time.\n"
   ]
  },
  {
   "cell_type": "code",
   "execution_count": 186,
   "id": "fd9fb93c",
   "metadata": {},
   "outputs": [
    {
     "data": {
      "image/png": "[encoded data removed]",
      "text/plain": [
       "<Figure size 424.475x360 with 1 Axes>"
      ]
     },
     "metadata": {},
     "output_type": "display_data"
    }
   ],
   "source": [
    "df['event_time'] = df.index.get_level_values(\"year\") - df.treatment\n",
    "\n",
    "att_g = sns.relplot(x=\"event_time\", y=\"tau_it\", hue='treatment', style='treatment', kind='line',\n",
    "            markers=True, legend = 'auto', palette=\"deep\", data=df);\n"
   ]
  },
  {
   "cell_type": "markdown",
   "id": "684860aa",
   "metadata": {},
   "source": [
    "--- \n",
    "## Part C\n",
    "\n",
    "Are you willing to make a parallel trends assumption? What are you willing to assume would have evolved in parallel, compared to what? Why (or why not) do you find this assumption reasonable?"
   ]
  },
  {
   "cell_type": "markdown",
   "id": "0a416e43",
   "metadata": {},
   "source": [
    "**Solution** Yes I am willing to make the parallel trends assumption here. Here we happen to know explicitly what the cohort specific time trends are. The time fixed effect is given by\n",
    "\n",
    "$$\n",
    "\\alpha_t = 0.1 (t-g) + \\epsilon_{TimeFE}\n",
    "$$\n",
    "\n",
    "So here, the trends are parallel and because we know the trend ($0.1$) is identical for each cohort we are safe to assume that in the absense of treatment, the cohorts would have been on the same trend."
   ]
  },
  {
   "cell_type": "markdown",
   "id": "13cf8aa5",
   "metadata": {},
   "source": [
    "---\n",
    "## Part D\n",
    "\n",
    "Now we will run TWFE regression using \"event study\" dummy variables $D_{i t}^{k}=1\\left\\{t-G_{i}=k\\right\\}$ which take value one if unit $i$ is $k$ periods away from initial treatment at time $t$ and zero otherwise. Your regression should look like this:\n",
    "$$\n",
    "Y_{i t}=\\alpha_{i}+\\alpha_{t}+\\gamma_{k}^{-5} D_{i, t}^{<-5}+\\sum_{k=-5}^{-2} \\gamma_{k}^{l e a d} D_{i t}^{k}+\\sum_{k=0}^{5} \\gamma_{k}^{l a g} D_{i t}^{k}+\\gamma_{k}^{5+} D_{i, t}^{>5}+\\epsilon_{i t}\n",
    "$$\n",
    "where $D_{i, t}^{<-5}=1\\left\\{t-G_{i}<-5\\right\\}$ and $D_{i, t}^{>5}=1\\left\\{t-G_{i}>5\\right\\}$. Note that we are \"leaving out\" the dummy for event time $k=-1$\n",
    "\n",
    "Historically (until very recently) people have interpreted $\\gamma_{k}^{l a g}$ as a measure of the average treatment effect of being exposed to treatment for $k$ periods, and estimates of $\\gamma_{k}^{\\text {lead }}$ as measures of pre-trends. As we will see, this is not a correct interpretation.\n",
    "\n",
    "We will perform a Monte Carlo exercise where we generate data according to the DGP de- scribed above and estimate the TWFE regression. Repeat this 100 times, saving the values of the gammas each time."
   ]
  },
  {
   "cell_type": "code",
   "execution_count": 224,
   "id": "17b3820f",
   "metadata": {},
   "outputs": [
    {
     "name": "stdout",
     "output_type": "stream",
     "text": [
      "\n",
      "--\n",
      "\n",
      "\n",
      "Simulation number  0\n",
      "\n",
      "Simulation number  1\n"
     ]
    }
   ],
   "source": [
    "# Here I simulate M=100 monte carlo simulations of the above DGP. \n",
    "# Then I run the above regression and store the coefficient in a vector\n",
    "# Finally, I take the mean of that vector and report it\n",
    "\n",
    "M=2\n",
    "\n",
    "gamma_n6 = np.zeros(M)\n",
    "gamma_n5 = np.zeros(M)\n",
    "gamma_n4 = np.zeros(M)\n",
    "gamma_n3 = np.zeros(M)\n",
    "gamma_n2 = np.zeros(M)\n",
    "gamma_0 = np.zeros(M)\n",
    "gamma_1 = np.zeros(M)\n",
    "gamma_2 = np.zeros(M)\n",
    "gamma_3 = np.zeros(M)\n",
    "gamma_4 = np.zeros(M)\n",
    "gamma_5 = np.zeros(M)\n",
    "gamma_6 = np.zeros(M)\n",
    "\n",
    "\n",
    "# RUN SIMULATION\n",
    "print('\\n--\\n')\n",
    "for mm in range(M):\n",
    "    \n",
    "    print('\\nSimulation number ', mm)\n",
    "        \n",
    "    # simulate the data\n",
    "    df_mm = MCsim(df_unit).df \n",
    "    \n",
    "    # Set event time above and below 5,-5 respectively to the 6, -6\n",
    "    df_mm['event_time'] = df_mm.index.get_level_values(\"year\") - df_mm.treatment\n",
    "    df_mm.loc[df_mm['event_time']< -5, 'event_time'] = -6\n",
    "    df_mm.loc[df_mm['event_time']> 5, 'event_time']  = 6   \n",
    "    \n",
    "    # need unit and time vars\n",
    "    df_mm.reset_index(inplace=True)\n",
    "    \n",
    "    # python omits the first one\n",
    "    df_mm.loc[df_mm['event_time']== -1, 'event_time'] = -1e5\n",
    "    \n",
    "    \n",
    "    # Run regression\n",
    "    formula = 'y_it ~ 1 + C(year) + C(unit) + C(event_time)'\n",
    "    results = smf.ols(formula=formula, data=df_mm).fit()\n",
    "    \n",
    "    # Store coefficients\n",
    "    gamma_0[mm]  = results.params['C(event_time)[T.0]']\n",
    "    gamma_n2[mm] = results.params['C(event_time)[T.-2]']\n",
    "    gamma_n3[mm] = results.params['C(event_time)[T.-3]']\n",
    "    gamma_n4[mm] = results.params['C(event_time)[T.-4]']\n",
    "    gamma_n5[mm] = results.params['C(event_time)[T.-5]']\n",
    "    gamma_n6[mm] = results.params['C(event_time)[T.-6]']\n",
    "    \n",
    "    gamma_1[mm] = results.params['C(event_time)[T.1]']\n",
    "    gamma_2[mm] = results.params['C(event_time)[T.2]']\n",
    "    gamma_3[mm] = results.params['C(event_time)[T.3]']\n",
    "    gamma_4[mm] = results.params['C(event_time)[T.4]']\n",
    "    gamma_5[mm] = results.params['C(event_time)[T.5]']\n",
    "    gamma_6[mm] = results.params['C(event_time)[T.6]']\n",
    "#     results.summary()\n",
    "\n",
    "\n",
    "# STORE RESULTS IN DATAFRAME\n",
    "df_montecarlo = pd.DataFrame({'gamma-6': gamma_n6,\n",
    "                              'gamma-5': gamma_n5,\n",
    "                              'gamma-4': gamma_n4,\n",
    "                              'gamma-3': gamma_n3,\n",
    "                              'gamma-2': gamma_n2,\n",
    "                              'gamma0': gamma_0,\n",
    "                              'gamma6': gamma_6,\n",
    "                              'gamma5': gamma_5,\n",
    "                              'gamma4': gamma_4,\n",
    "                              'gamma3': gamma_3,\n",
    "                              'gamma2': gamma_2,\n",
    "                              'gamma1': gamma_1})"
   ]
  },
  {
   "cell_type": "code",
   "execution_count": 290,
   "id": "27f42303",
   "metadata": {},
   "outputs": [
    {
     "data": {
      "image/png": "[encoded data removed]",
      "text/plain": [
       "<Figure size 360x360 with 1 Axes>"
      ]
     },
     "metadata": {},
     "output_type": "display_data"
    }
   ],
   "source": [
    "index = [-6, -5, -4, -3, -2, 0, 1, 2, 3,4 ,5 ,6]\n",
    "df_plot = pd.DataFrame({'Coefficient':df_montecarlo.mean().values}, index=index) # coefficients\n",
    "\n",
    "aux = pd.DataFrame({'Coefficient':[0]}, index=[-1])\n",
    "aux.iloc[-1] = 0\n",
    "\n",
    "df_plot = pd.concat([df_plot, aux]) # append a zero at negative -1\n",
    "df_plot.index.name = 'Event time'\n",
    "\n",
    "twfe = sns.relplot(kind='line',\n",
    "            markers=True, legend=False, palette=\"deep\", data=df_plot);\n",
    "\n",
    "\n"
   ]
  },
  {
   "cell_type": "markdown",
   "id": "43c652ee",
   "metadata": {},
   "source": [
    "See above figure for the plot of mean gamma coefficients. \n",
    "\n",
    "The estimates are not the treatment effects because they are the weighted average of all the 2x2 comparisons. OLS is variation hungry and make comparisions we don't like. \n",
    "\n",
    "The estimates from the TWFE are so off because they are the weighted averages of all the 2×2 comparison between the timing groups. Based on the discussion in class and in Goodman and Bacon (2020), we know there might be that negative weights, which causes the TWFE estimates to be inaccurate. Callaway and Sant’Anna (2020) also mentioned that even if the weights from the TWFE estimation are nonnegative, the weights of the treatment effects parameters are sensitive to the size of each group, the timing of treatment and the total number of time periods, which will make the estimates inaccurate. As a side remark, TWFE estimates are the weighted averages, so they may be difficult to interpret.\n"
   ]
  },
  {
   "cell_type": "code",
   "execution_count": null,
   "id": "2984cc4f",
   "metadata": {},
   "outputs": [],
   "source": []
  },
  {
   "cell_type": "code",
   "execution_count": 280,
   "id": "3ebb7584",
   "metadata": {},
   "outputs": [
    {
     "data": {
      "text/plain": [
       "-1    0\n",
       "dtype: object"
      ]
     },
     "execution_count": 280,
     "metadata": {},
     "output_type": "execute_result"
    }
   ],
   "source": [
    "a"
   ]
  },
  {
   "cell_type": "code",
   "execution_count": null,
   "id": "0389fe2a",
   "metadata": {},
   "outputs": [],
   "source": []
  },
  {
   "cell_type": "code",
   "execution_count": null,
   "id": "c573b6e3",
   "metadata": {},
   "outputs": [],
   "source": []
  },
  {
   "cell_type": "code",
   "execution_count": 271,
   "id": "bc6514e1",
   "metadata": {},
   "outputs": [
    {
     "data": {
      "text/plain": [
       "0"
      ]
     },
     "execution_count": 271,
     "metadata": {},
     "output_type": "execute_result"
    }
   ],
   "source": [
    "0"
   ]
  },
  {
   "cell_type": "code",
   "execution_count": null,
   "id": "6e01796d",
   "metadata": {},
   "outputs": [],
   "source": []
  }
 ],
 "metadata": {
  "kernelspec": {
   "display_name": "Python 3 (ipykernel)",
   "language": "python",
   "name": "python3"
  },
  "language_info": {
   "codemirror_mode": {
    "name": "ipython",
    "version": 3
   },
   "file_extension": ".py",
   "mimetype": "text/x-python",
   "name": "python",
   "nbconvert_exporter": "python",
   "pygments_lexer": "ipython3",
   "version": "3.8.9"
  }
 },
 "nbformat": 4,
 "nbformat_minor": 5
}
